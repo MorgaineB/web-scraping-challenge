{
 "cells": [
  {
   "cell_type": "code",
   "execution_count": 1,
   "id": "logical-martin",
   "metadata": {},
   "outputs": [],
   "source": [
    "#Dependencies\n",
    "import os\n",
    "import pandas as pd\n",
    "import requests\n",
    "import pymongo\n",
    "from bs4 import BeautifulSoup\n",
    "from splinter import Browser\n",
    "from webdriver_manager.chrome import ChromeDriverManager"
   ]
  },
  {
   "cell_type": "code",
   "execution_count": 2,
   "id": "violent-linux",
   "metadata": {},
   "outputs": [
    {
     "name": "stderr",
     "output_type": "stream",
     "text": [
      "\n",
      "\n",
      "====== WebDriver manager ======\n",
      "Current google-chrome version is 90.0.4430\n",
      "Get LATEST driver version for 90.0.4430\n",
      "Driver [/Users/Morgaine/.wdm/drivers/chromedriver/mac64/90.0.4430.24/chromedriver] found in cache\n"
     ]
    }
   ],
   "source": [
    "#Splinter Set Up\n",
    "executable_path = ChromeDriverManager().install()\n",
    "executable_path\n",
    "browser = Browser('chrome', executable_path=executable_path, headless=False)"
   ]
  },
  {
   "cell_type": "markdown",
   "id": "provincial-validation",
   "metadata": {},
   "source": [
    "# NASA Mars News Scraping"
   ]
  },
  {
   "cell_type": "code",
   "execution_count": 3,
   "id": "joined-broadcasting",
   "metadata": {},
   "outputs": [],
   "source": [
    "#Set up for NASA Mars News Scraping\n",
    "mars_news_url = \"https://redplanetscience.com/\"\n",
    "browser.visit(mars_news_url)\n",
    "html = browser.html\n",
    "soup = BeautifulSoup(html, 'html.parser')"
   ]
  },
  {
   "cell_type": "code",
   "execution_count": 7,
   "id": "attended-courage",
   "metadata": {},
   "outputs": [],
   "source": [
    "#NASA Mars News Scraping for Latest News Title and Paragraph Text\n",
    "mars_news_title = soup.find('div', class_='content_title').text\n",
    "mars_news_paragraph = soup.find('div', class_='article_teaser_body').text"
   ]
  },
  {
   "cell_type": "code",
   "execution_count": 10,
   "id": "durable-future",
   "metadata": {},
   "outputs": [
    {
     "name": "stdout",
     "output_type": "stream",
     "text": [
      "The Latest NASA Mars News Title: NASA to Broadcast Mars 2020 Perseverance Launch, Prelaunch Activities\n",
      "The Latests NASA Mars News Paragraph Text: Starting July 27, news activities will cover everything from mission engineering and science to returning samples from Mars to, of course, the launch itself.\n"
     ]
    }
   ],
   "source": [
    "#Display scraped Title & Paragraph Text\n",
    "print(f'The Latest NASA Mars News Title: {mars_news_title}')\n",
    "print(f'The Latests NASA Mars News Paragraph Text: {mars_news_paragraph}')"
   ]
  },
  {
   "cell_type": "markdown",
   "id": "circular-arabic",
   "metadata": {},
   "source": [
    "# Featured Mars Image Scraping"
   ]
  },
  {
   "cell_type": "code",
   "execution_count": 11,
   "id": "ceramic-neighborhood",
   "metadata": {},
   "outputs": [],
   "source": [
    "#Set up for JPL Featured Mars Image Scraping\n",
    "jpl_url = \"https://spaceimages-mars.com/\"\n",
    "browser.visit(jpl_url)\n",
    "html = browser.html\n",
    "soup = BeautifulSoup(html, 'html.parser')"
   ]
  },
  {
   "cell_type": "code",
   "execution_count": null,
   "id": "elder-optimization",
   "metadata": {},
   "outputs": [],
   "source": []
  }
 ],
 "metadata": {
  "kernelspec": {
   "display_name": "Python [conda env:PythonData] *",
   "language": "python",
   "name": "conda-env-PythonData-py"
  },
  "language_info": {
   "codemirror_mode": {
    "name": "ipython",
    "version": 3
   },
   "file_extension": ".py",
   "mimetype": "text/x-python",
   "name": "python",
   "nbconvert_exporter": "python",
   "pygments_lexer": "ipython3",
   "version": "3.8.8"
  }
 },
 "nbformat": 4,
 "nbformat_minor": 5
}
