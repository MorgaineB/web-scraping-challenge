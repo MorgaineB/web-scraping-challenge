{
 "cells": [
  {
   "cell_type": "code",
   "execution_count": 1,
   "id": "mathematical-substitute",
   "metadata": {},
   "outputs": [],
   "source": [
    "#Dependencies\n",
    "import os\n",
    "import pandas as pd\n",
    "import requests\n",
    "import pymongo\n",
    "from bs4 import BeautifulSoup\n",
    "from splinter import Browser\n",
    "from webdriver_manager.chrome import ChromeDriverManager"
   ]
  },
  {
   "cell_type": "code",
   "execution_count": 3,
   "id": "southeast-bryan",
   "metadata": {},
   "outputs": [
    {
     "name": "stderr",
     "output_type": "stream",
     "text": [
      "\n",
      "\n",
      "====== WebDriver manager ======\n",
      "Current google-chrome version is 90.0.4430\n",
      "Get LATEST driver version for 90.0.4430\n",
      "Driver [/Users/Morgaine/.wdm/drivers/chromedriver/mac64/90.0.4430.24/chromedriver] found in cache\n"
     ]
    }
   ],
   "source": [
    "#Splinter Set Up\n",
    "executable_path = ChromeDriverManager().install()\n",
    "executable_path\n",
    "browser = Browser('chrome', executable_path=executable_path, headless=False)"
   ]
  },
  {
   "cell_type": "markdown",
   "id": "greater-insertion",
   "metadata": {},
   "source": [
    "# NASA Mars News Scraping"
   ]
  },
  {
   "cell_type": "code",
   "execution_count": null,
   "id": "accompanied-presentation",
   "metadata": {},
   "outputs": [],
   "source": [
    "#Set up for NASA Mar\n",
    "mars_news_url = \"https://redplanetscience.com/\"\n",
    "browser.visit(mars_news_url)\n",
    "html = browser.html\n",
    "soup = BeautifulSoup(html, 'html.parser')"
   ]
  }
 ],
 "metadata": {
  "kernelspec": {
   "display_name": "Python [conda env:PythonData] *",
   "language": "python",
   "name": "conda-env-PythonData-py"
  },
  "language_info": {
   "codemirror_mode": {
    "name": "ipython",
    "version": 3
   },
   "file_extension": ".py",
   "mimetype": "text/x-python",
   "name": "python",
   "nbconvert_exporter": "python",
   "pygments_lexer": "ipython3",
   "version": "3.8.8"
  }
 },
 "nbformat": 4,
 "nbformat_minor": 5
}
